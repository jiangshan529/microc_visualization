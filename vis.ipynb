    chip_condition_bigwigs = ["/broad/boxialab/shawn/projects/microC/bw_track/HCT/HCT116_POL2A_hg38_ENCFF779RGR.bigWig",
                          "/broad/boxialab/shawn/projects/microC/bw_track/HCT/227CVTLT3_2_0420637073_ChIP-55_S10_L002_hg38_sort.rmdup.bw",
                         "/broad/boxialab/shawn/projects/microC/bw_track/HCT/HCT116_J_chip_85_87_sort_dedup.bw",
                         "/broad/boxialab/shawn/projects/J/self_data/RNA-seq/HCT116/23022FL-07-01-04_S4_L008Aligned.bw",
              "/broad/boxialab/shawn/projects/microC/bw_track/HCT/HCT116_H3K27ac_ENCFF758DHJ.bigWig"]
    condition_order = ['POLii', 'CTCF', 'h7','RNA',"27AC"]
    DEFAULT_COLOR_LIST = ["#1fa774", "#1fa774","#1fa774", "#0485d1","#0485d1"]
    ymax=[3,10,0.7,10,10,10]
    ymin=[0,0,0,0,0]
    bw_bins=7000
    track_height=1.6




region_str = "17:72,306,437-72,933,650" # provide region in format like chr15:99,921,434-100,682,822

MICROC_PLOTTING_PARAMS = {"style":"matrix",
                          "transform":"log2",
                          "depth_ratio":"full",
                          "balance":True,
                          "cmap":'Reds',
                          "max_value":10^-3}

region_plot_params = {"region": region_str,
                    "resolution": 600,
                    "highlight_region_list": [["chr1",154_955_735,154_994_524]], 
                    "microc_file": mcool_files[0],
                    "microc_title": "Micro-C",
                    "chip_list_list": [chip_condition_bigwigs],
                    "forward_proseq_list": proseq_forward_bigwigs,
                    "reverse_proseq_list": proseq_reverse_bigwigs,
                     "condition_order": condition_order}

frame = make_region_plot(**region_plot_params)
fig1 = frame.plot(region_str)
fig1
